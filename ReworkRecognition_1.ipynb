{
  "nbformat": 4,
  "nbformat_minor": 0,
  "metadata": {
    "kernelspec": {
      "display_name": "Python 3",
      "language": "python",
      "name": "python3"
    },
    "language_info": {
      "codemirror_mode": {
        "name": "ipython",
        "version": 3
      },
      "file_extension": ".py",
      "mimetype": "text/x-python",
      "name": "python",
      "nbconvert_exporter": "python",
      "pygments_lexer": "ipython3",
      "version": "3.7.3"
    },
    "colab": {
      "provenance": [],
      "include_colab_link": true
    }
  },
  "cells": [
    {
      "cell_type": "markdown",
      "metadata": {
        "id": "view-in-github",
        "colab_type": "text"
      },
      "source": [
        "<a href=\"https://colab.research.google.com/github/naveens01/Ancient-letter-recognition-ML/blob/main/ReworkRecognition_1.ipynb\" target=\"_parent\"><img src=\"https://colab.research.google.com/assets/colab-badge.svg\" alt=\"Open In Colab\"/></a>"
      ]
    },
    {
      "cell_type": "code",
      "metadata": {
        "id": "DPaNcrkjUvZr"
      },
      "source": [
        "#importing necessary packages\n",
        "\n",
        "import numpy as np\n",
        "import os\n",
        "from matplotlib import pyplot as plt\n",
        "import cv2\n",
        "import random\n",
        "import pickle"
      ],
      "execution_count": null,
      "outputs": []
    },
    {
      "cell_type": "code",
      "metadata": {
        "colab": {
          "base_uri": "https://localhost:8080/"
        },
        "id": "sc1QW01E4DtI",
        "outputId": "beefaa54-affa-45ce-919a-bdb8853810e0"
      },
      "source": [
        "from google.colab import drive\n",
        "drive.mount('/content/gdrive')\n"
      ],
      "execution_count": null,
      "outputs": [
        {
          "output_type": "stream",
          "name": "stdout",
          "text": [
            "Drive already mounted at /content/gdrive; to attempt to forcibly remount, call drive.mount(\"/content/gdrive\", force_remount=True).\n"
          ]
        }
      ]
    },
    {
      "cell_type": "code",
      "metadata": {
        "id": "i4MPbj2bUvZw"
      },
      "source": [
        "file_list = []\n",
        "class_list = []\n",
        "IMG_SIZE = 50 # The size of images the network will work on"
      ],
      "execution_count": null,
      "outputs": []
    },
    {
      "cell_type": "code",
      "metadata": {
        "id": "Pp1zQeH5UvZy",
        "colab": {
          "base_uri": "https://localhost:8080/"
        },
        "outputId": "6910aa11-586e-4ddc-8323-de5be2d6af23"
      },
      "source": [
        "#All the categories that should be detect in neural network\n",
        "\n",
        "CATEGORIES = []\n",
        "ignore_files = ['1 - Multipart','2 - Unknown','3 - Images'] #This files/folder should not include in neural network\n",
        "DATADIR = r'/content/gdrive/MyDrive/Ancient-Tamil-Script-Recognition-master/Seg_Images'\n",
        "for directoryfile in os.listdir(DATADIR):\n",
        "    if(directoryfile in ignore_files):\n",
        "        continue\n",
        "    CATEGORIES.append(directoryfile) #Append all the character's name as label in 'CATEGORIES'\n",
        "print(len(CATEGORIES))"
      ],
      "execution_count": null,
      "outputs": [
        {
          "output_type": "stream",
          "name": "stdout",
          "text": [
            "37\n"
          ]
        }
      ]
    },
    {
      "cell_type": "code",
      "metadata": {
        "colab": {
          "base_uri": "https://localhost:8080/"
        },
        "id": "hn4Zva6K7WFs",
        "outputId": "60c34e5a-4ef4-40b1-ad4a-c19f7d65ba93"
      },
      "source": [
        "CATEGORIES"
      ],
      "execution_count": null,
      "outputs": [
        {
          "output_type": "execute_result",
          "data": {
            "text/plain": [
              "['சி',\n",
              " 'ஒ',\n",
              " 'உ',\n",
              " 'ஆ',\n",
              " 'சா',\n",
              " 'ச',\n",
              " 'எ',\n",
              " 'கு',\n",
              " 'கூ',\n",
              " 'க',\n",
              " 'த',\n",
              " 'ன',\n",
              " 'து',\n",
              " 'டு',\n",
              " 'டூ',\n",
              " 'ட',\n",
              " 'ஜ',\n",
              " 'நு',\n",
              " 'ண',\n",
              " 'தூ',\n",
              " 'ல',\n",
              " 'மி',\n",
              " 'ரு',\n",
              " 'பி',\n",
              " 'ய',\n",
              " 'ப',\n",
              " 'மூ',\n",
              " 'ம',\n",
              " 'ர',\n",
              " 'யு',\n",
              " 'ளி',\n",
              " 'லி',\n",
              " 'வி',\n",
              " 'வ',\n",
              " 'ழ',\n",
              " 'ள',\n",
              " 'வு']"
            ]
          },
          "metadata": {},
          "execution_count": 5
        }
      ]
    },
    {
      "cell_type": "code",
      "metadata": {
        "id": "UgWeX8jWUvZ5",
        "colab": {
          "base_uri": "https://localhost:8080/"
        },
        "outputId": "74a95c93-e419-4cc7-b3bf-cf49fb72f07e"
      },
      "source": [
        "training_data = []\n",
        "\n",
        "def create_training_data():\n",
        "    for category in CATEGORIES :\n",
        "        path = os.path.join(DATADIR, category)\n",
        "        class_num = CATEGORIES.index(category) # Charcater's name label as class number\n",
        "        for img in os.listdir(path):\n",
        "            try :\n",
        "                img_array = cv2.imread(os.path.join(path, img), cv2.IMREAD_GRAYSCALE) # Converting image into grayscale\n",
        "                new_array = cv2.resize(img_array, (IMG_SIZE, IMG_SIZE)) #Resizing all images into same size (50,50)\n",
        "                #new_array = cv2.resize(img_array)\n",
        "                training_data.append([new_array, class_num]) # append all images with their respective class name\n",
        "            except Exception as e:\n",
        "                print(path)\n",
        "                pass\n",
        "\n",
        "create_training_data()\n",
        "\n"
      ],
      "execution_count": null,
      "outputs": [
        {
          "output_type": "stream",
          "name": "stdout",
          "text": [
            "/content/gdrive/MyDrive/Ancient-Tamil-Script-Recognition-master/Seg_Images/சா\n",
            "/content/gdrive/MyDrive/Ancient-Tamil-Script-Recognition-master/Seg_Images/சா\n",
            "/content/gdrive/MyDrive/Ancient-Tamil-Script-Recognition-master/Seg_Images/ச\n",
            "/content/gdrive/MyDrive/Ancient-Tamil-Script-Recognition-master/Seg_Images/கு\n",
            "/content/gdrive/MyDrive/Ancient-Tamil-Script-Recognition-master/Seg_Images/து\n",
            "/content/gdrive/MyDrive/Ancient-Tamil-Script-Recognition-master/Seg_Images/டு\n"
          ]
        }
      ]
    },
    {
      "cell_type": "code",
      "source": [
        "training_data"
      ],
      "metadata": {
        "id": "RTanmsj_0vG6"
      },
      "execution_count": null,
      "outputs": []
    },
    {
      "cell_type": "code",
      "metadata": {
        "id": "77o0g5p6UvZ-"
      },
      "source": [
        "#Storing features in X and labels in Y using numpy\n",
        "\n",
        "random.shuffle(training_data)\n",
        "X = [] #features\n",
        "y = [] #labels\n",
        "\n",
        "for features, label in training_data:\n",
        "    X.append(features)\n",
        "    y.append(label)\n",
        "\n",
        "\n",
        "X = np.array(X).reshape(-1, IMG_SIZE, IMG_SIZE, 1)"
      ],
      "execution_count": null,
      "outputs": []
    },
    {
      "cell_type": "code",
      "metadata": {
        "id": "M6N6UOigUvaA"
      },
      "source": [
        "#Saving features and label in pickle files\n",
        "\n",
        "pickle_out = open(\"/content/gdrive/MyDrive/Ancient-Tamil-Script-Recognition-master/Pickle/X.pickle\", \"wb\")\n",
        "pickle.dump(X, pickle_out)\n",
        "pickle_out.close()\n",
        "\n",
        "pickle_out = open(\"/content/gdrive/MyDrive/Ancient-Tamil-Script-Recognition-master/Pickle/y.pickle\", \"wb\")\n",
        "pickle.dump(y, pickle_out)\n",
        "pickle_out.close()"
      ],
      "execution_count": null,
      "outputs": []
    },
    {
      "cell_type": "code",
      "metadata": {
        "id": "rTNEDcdzUvaD"
      },
      "source": [
        "print(training_data)"
      ],
      "execution_count": null,
      "outputs": []
    }
  ]
}